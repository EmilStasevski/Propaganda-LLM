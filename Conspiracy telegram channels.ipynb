{
 "cells": [
  {
   "cell_type": "markdown",
   "id": "3395ae5c-24cf-4e7b-9e9a-5d827bf64819",
   "metadata": {},
   "source": [
    "# Links"
   ]
  },
  {
   "cell_type": "markdown",
   "id": "1f55a925-d1a5-4e73-ae9d-54a7cc8900cb",
   "metadata": {},
   "source": [
    "### Major narratives"
   ]
  },
  {
   "cell_type": "markdown",
   "id": "13de6c2e-e85e-43e7-846d-eab94a01a2fc",
   "metadata": {},
   "source": [
    "![all text](topic_narr.webp)"
   ]
  },
  {
   "cell_type": "markdown",
   "id": "5159bfaa-4108-46fb-916d-84bfec879937",
   "metadata": {},
   "source": [
    "###  Telegram channel links"
   ]
  },
  {
   "cell_type": "markdown",
   "id": "8c79eb28-eefa-4531-8113-808a73b27d32",
   "metadata": {},
   "source": [
    "\n",
    "\n",
    "| Channel | Link | Subscribers (Sep 2025) | Short Description |\n",
    "|---------|------|-------------------------|------------------|\n",
    "| **AUF1** | [t.me/auf1tv](https://t.me/auf1tv) | ~293,200 | Austrian far-right “alternative TV” led by Stefan Magnet; mixes anti-mainstream themes with pro-Kremlin framing of the Ukraine war. |\n",
    "| **Eva Herman Offiziell** | [t.me/EvaHermanOffiziell](https://t.me/EvaHermanOffiziell) | ~197,900 | Ex-Tagesschau host turned conspiracy influencer; combines anti-feminist/COVID stories with pro-Russia narratives. |\n",
    "| **Neues aus Russland (Alina Lipp)** | [t.me/neuesausrussland](https://t.me/neuesausrussland) | ~176,900 | Translates Russian state lines into German; promotes “genocide in Donbas,” “denazification,” and other Kremlin claims. |\n",
    "| **Anti-Spiegel (Thomas Röper)** | [t.me/AntiSpiegel](https://t.me/AntiSpiegel) | ~127,700 | “Media-critique” channel presenting Russia’s view; denies/relativizes atrocities and spreads anti-West conspiracies. |\n",
    "| **Oliver Janich** | [t.me/oliverjanich](https://t.me/oliverjanich) | ~113,000 | Far-right QAnon figure; pushes antisemitic “globalist” conspiracies and pro-Putin war framing. |\n",
    "| **Attila Hildmann** | [t.me/attilahildmann](https://t.me/attilahildmann) | ~11,600 | Former vegan chef turned extremist; channels cycle but content fuses antisemitic tropes with pro-Russia claims. |\n",
    "| **RT DE (mirrors)** | [t.me/RT_DE](https://t.me/RT_DE) / [t.me/rt_de_live](https://t.me/rt_de_live) | ~29,600 / ~3,100 | Russian state outlet’s German arm; banned in EU but mirror channels continue posting Kremlin’s official line. |\n",
    "| **SNA / „Satellit“** | [t.me/satellit_de](https://t.me/satellit_de) | ~58,400 | Rebranded Sputnik Germany feed; presents as “independent” but amplifies Kremlin narratives on energy, sanctions, and Ukraine. |\n",
    "| **Compact-Magazin** | [t.me/CompactMagazin](https://t.me/CompactMagazin) | ~81,300 | Far-right outlet by Jürgen Elsässer; strongly pro-Putin, frames sanctions as self-harm, supports Moscow openly. |\n",
    "| **Freie Sachsen** | [t.me/freiesachsen](https://t.me/freiesachsen) | ~121,600 | Extremist protest hub in eastern Germany; combines separatist/anti-government themes with open pro-Russia sympathies. |\n",
    "| **Ken Jebsen / KenFM / Apolut** | [t.me/kenjebsen](https://t.me/kenjebsen), [t.me/apolut](https://t.me/apolut) | ~135,700 / ~94,600 | Ex-RBB host; channels spread anti-US/NATO lines, COVID conspiracies, and Kremlin-aligned disinfo. |\n",
    "| **Reiner Füllmich** | [t.me/dr_reiner_fuellmich](https://t.me/dr_reiner_fuellmich), [t.me/icic_law_official](https://t.me/icic_law_official) | ~2,200 / ~9,100 | Lawyer from “Corona Committee”; ties war into “Great Reset” and biolab conspiracies. |\n",
    "| **Bodo Schiffmann** | [t.me/AllesAusserMainstream](https://t.me/AllesAusserMainstream), [t.me/RKI_Files](https://t.me/RKI_Files) | ~121,900 / ~3,100 | Ex-doctor turned “Querdenker”; merges COVID denial with pro-Russia lines, calls mainstream media “fake.” |\n",
    "| **Qlobal-Change** | [t.me/QlobalChange](https://t.me/QlobalChange) | ~105,700 | Leading German QAnon channel; fuses deep-state myths with pro-Russia disinfo about Ukraine. |\n",
    "| **NachDenkSeiten** | [t.me/NachDenkSeiten_DE](https://t.me/NachDenkSeiten_DE) | ~22,000 | Self-styled “critical” blog; reframes events in ways sympathetic to Moscow, reaching beyond far-right audiences. |\n",
    "| **Epoch Times DE** | [t.me/epochtimesde](https://t.me/epochtimesde) | ~33,500 | German edition of Epoch Times; right-leaning “alt-news” site amplifying anti-West, pro-Kremlin narratives. |\n"
   ]
  }
 ],
 "metadata": {
  "kernelspec": {
   "display_name": "Python 3 (ipykernel)",
   "language": "python",
   "name": "python3"
  },
  "language_info": {
   "codemirror_mode": {
    "name": "ipython",
    "version": 3
   },
   "file_extension": ".py",
   "mimetype": "text/x-python",
   "name": "python",
   "nbconvert_exporter": "python",
   "pygments_lexer": "ipython3",
   "version": "3.10.12"
  }
 },
 "nbformat": 4,
 "nbformat_minor": 5
}
